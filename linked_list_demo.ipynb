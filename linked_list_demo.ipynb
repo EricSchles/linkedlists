{
 "metadata": {
  "name": "",
  "signature": "sha256:263fdd40cb9ab73c468e9f6adf56af739823b715e19c9778506b225166295cc4"
 },
 "nbformat": 3,
 "nbformat_minor": 0,
 "worksheets": [
  {
   "cells": [
    {
     "cell_type": "code",
     "collapsed": false,
     "input": [
      "from linked_list_pure import LinkedList \n",
      "\n",
      "ll = LinkedList([1,2,3])\n",
      "\n",
      "ll.pretty_print()\n",
      "ll.add_first(5)\n",
      "ll.pretty_print()\n",
      "ll.add_last(7)\n",
      "ll.pretty_print()\n",
      "ll.add_at(17,3)\n",
      "ll.pretty_print()\n",
      "ll.add_last(24)\n",
      "ll.pretty_print()\n",
      "ll.print_backwards()\n",
      "print ll.contains(4)\n",
      "print ll.contains(5)\n",
      "    "
     ],
     "language": "python",
     "metadata": {},
     "outputs": [
      {
       "output_type": "stream",
       "stream": "stdout",
       "text": [
        "1 2 3\n",
        "5 1 2 3\n",
        "5 1 2 3 7\n",
        "5 1 2 17 3 7\n",
        "5 1 2 17 3 7 24\n",
        "24 7 3 2 1 False\n",
        "True\n"
       ]
      }
     ],
     "prompt_number": 3
    },
    {
     "cell_type": "code",
     "collapsed": false,
     "input": [
      "from linked_list_pure import LinkedList \n",
      "\n",
      "ll = LinkedList([1,2,3])\n",
      "\n",
      "ll.remove_first()\n",
      "ll.remove_last()\n",
      "print ll.contains(1)\n",
      "print ll.contains(3)\n",
      "\n",
      "l_two = ll.clone()\n",
      "l_two.pretty_print()\n",
      "listing = ll.to_list()\n",
      "print listing"
     ],
     "language": "python",
     "metadata": {},
     "outputs": [
      {
       "output_type": "stream",
       "stream": "stdout",
       "text": [
        "False\n",
        "False\n",
        "2\n",
        "[2]\n"
       ]
      }
     ],
     "prompt_number": 22
    }
   ],
   "metadata": {}
  }
 ]
}