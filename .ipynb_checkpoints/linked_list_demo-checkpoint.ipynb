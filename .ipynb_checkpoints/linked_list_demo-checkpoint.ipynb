{
 "metadata": {
  "name": "",
  "signature": "sha256:9041cdc31fdf5b5e5406259343e52d33a353ee18da8623303bf285fc85470ee1"
 },
 "nbformat": 3,
 "nbformat_minor": 0,
 "worksheets": []
}